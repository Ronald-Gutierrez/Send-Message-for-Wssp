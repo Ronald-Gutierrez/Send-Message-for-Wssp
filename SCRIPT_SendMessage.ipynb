{
  "nbformat": 4,
  "nbformat_minor": 0,
  "metadata": {
    "colab": {
      "provenance": [],
      "authorship_tag": "ABX9TyP1Ag2CoVuCWir99pLvKOjd",
      "include_colab_link": true
    },
    "kernelspec": {
      "name": "python3",
      "display_name": "Python 3"
    },
    "language_info": {
      "name": "python"
    }
  },
  "cells": [
    {
      "cell_type": "markdown",
      "metadata": {
        "id": "view-in-github",
        "colab_type": "text"
      },
      "source": [
        "<a href=\"https://colab.research.google.com/github/Ronald-Gutierrez/Send-Message-for-Wssp/blob/main/SCRIPT_SendMessage.ipynb\" target=\"_parent\"><img src=\"https://colab.research.google.com/assets/colab-badge.svg\" alt=\"Open In Colab\"/></a>"
      ]
    },
    {
      "cell_type": "code",
      "source": [
        "!pip install urllib3\n",
        "!pip install webbrowser\n",
        "!pip install pyautogui"
      ],
      "metadata": {
        "id": "WCdEPCEKaMXY"
      },
      "execution_count": null,
      "outputs": []
    },
    {
      "cell_type": "code",
      "execution_count": null,
      "metadata": {
        "id": "ca3pQBzROYAH"
      },
      "outputs": [],
      "source": [
        "import urllib.parse\n",
        "import webbrowser\n",
        "import time\n",
        "import pyautogui\n",
        "\n",
        "def enviar_mensaje_whatsapp(telefono, texto):\n",
        "    mensaje = f\"https://web.whatsapp.com/send?phone={telefono}&text={urllib.parse.quote(texto)}\"\n",
        "    webbrowser.open(mensaje)\n",
        "    time.sleep(10)  # Espera de 10 segundos para asegurar que la página de WhatsApp se cargue completamente\n",
        "    pyautogui.press('enter')  # Enviar el mensaje automáticamente dando ENTER\n",
        "\n",
        "numeros_telefono = ['5192xxxxxxx', '5197xxxxxxx']\n",
        "msg = \"\"\"ESCRIBE TU MENSAJE AQUÍ\"\"\"\n",
        "\n",
        "for telefono in numeros_telefono:\n",
        "    enviar_mensaje_whatsapp(telefono, msg)\n"
      ]
    }
  ]
}